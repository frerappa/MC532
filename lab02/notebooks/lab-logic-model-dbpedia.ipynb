{
 "cells": [
  {
   "cell_type": "markdown",
   "metadata": {},
   "source": [
    "# Acessando a DBPedia\n",
    "\n",
    "Considere a página na Wikipedia do livro [The Tin Drum](https://en.wikipedia.org/wiki/The_Tin_Drum).\n",
    "\n",
    "Há um nó equivalente na DBPedia em [The Tin Drum](http://dbpedia.org/page/The_Tin_Drum).\n",
    "\n",
    "## Carregando um nó da DBPedia\n",
    "\n",
    "A partir do que aprendemos na aula sobre APIs, é possível carregar o conteúdo em JSON desse nó da seguinte maneira:"
   ]
  },
  {
   "cell_type": "code",
   "execution_count": 34,
   "metadata": {},
   "outputs": [],
   "source": [
    "import io\n",
    "import requests\n",
    "import json\n",
    "url_drum = \"http://dbpedia.org/data/The_Tin_Drum.jsod\"\n",
    "js_drum = requests.get(url_drum)\n"
   ]
  },
  {
   "cell_type": "markdown",
   "metadata": {},
   "source": [
    "# Acessando e navegando pelo Grafo\n",
    "### Quem é autor de The Tin Drum?"
   ]
  },
  {
   "cell_type": "code",
   "execution_count": 4,
   "metadata": {},
   "outputs": [
    {
     "name": "stdout",
     "output_type": "stream",
     "text": [
      "Autor de The Tin Drum: http://dbpedia.org/resource/Günter_Grass\n"
     ]
    }
   ],
   "source": [
    "json_drum = js_drum.json()\n",
    "url_grass = json_drum[\"d\"][\"results\"][0][\"http://dbpedia.org/ontology/author\"][\"__deferred\"][\"uri\"]\n",
    "print(\"Autor de The Tin Drum: \" + url_grass)"
   ]
  },
  {
   "cell_type": "markdown",
   "metadata": {},
   "source": [
    "## Tarefa\n",
    "\n",
    "### Carregue o nó de Günter Grass em Python e mostre o conteúdo JSON."
   ]
  },
  {
   "cell_type": "raw",
   "metadata": {},
   "source": [
    "url_grass = \"http://dbpedia.org/data/G%C3%BCnter_Grass.json\"\n",
    "js_grass = requests.get(url_grass)\n",
    "json_grass = js_grass.json()\n",
    "print(json_grass)"
   ]
  },
  {
   "cell_type": "markdown",
   "metadata": {},
   "source": [
    "## Tarefa\n",
    "### Quais os livros escritos por Günter Grass?"
   ]
  },
  {
   "cell_type": "code",
   "execution_count": 73,
   "metadata": {},
   "outputs": [
    {
     "name": "stdout",
     "output_type": "stream",
     "text": [
      "Os livros são:\n",
      "\n",
      "Cat and Mouse (novella)\n",
      "Dog Years (novel)\n",
      "Crabwalk\n",
      "The Call of the Toad\n",
      "The Rat (novel)\n",
      "The Tin Drum\n",
      "The Meeting at Telgte\n",
      "The Box (Grass book)\n",
      "Local Anaesthetic (novel)\n",
      "The Flounder\n"
     ]
    }
   ],
   "source": [
    "url_grass = \"http://dbpedia.org/data/G%C3%BCnter_Grass.json\"\n",
    "js_grass = requests.get(url_grass)\n",
    "json_grass = js_grass.json()\n",
    "print(\"Os livros são:\")\n",
    "print()\n",
    "for item in json_grass.items():\n",
    "    try:\n",
    "        if (item[1]['http://dbpedia.org/ontology/author'][0]['value'] == \"http://dbpedia.org/resource/Günter_Grass\"):\n",
    "            print(item[0][28:].replace('_', ' '))\n",
    "    except:\n",
    "        pass"
   ]
  },
  {
   "cell_type": "markdown",
   "metadata": {},
   "source": [
    "# MeSH - Medical Subject Headings\n",
    "## Pesquisa para humanos\n",
    "Através do endereço MeSH Search.\n",
    "\n",
    "Procure o termo: Myocardial Infarction.\n",
    "\n",
    "## Serviços para Máquinas\n",
    "É possível acessar os mesmos dados pela API JSON.\n",
    "\n",
    "Buscando o código de Myocardial Infarction:"
   ]
  },
  {
   "cell_type": "code",
   "execution_count": 76,
   "metadata": {},
   "outputs": [
    {
     "name": "stdout",
     "output_type": "stream",
     "text": [
      "[{\"resource\":\"http://id.nlm.nih.gov/mesh/D009203\",\"label\":\"Myocardial Infarction\"}]\n"
     ]
    }
   ],
   "source": [
    "url_mi = \"https://id.nlm.nih.gov/mesh/lookup/descriptor?label=Myocardial%20Infarction&match=exact&limit=10\"\n",
    "js_mi = requests.get(url_mi)\n",
    "print(js_mi.content.decode(\"utf-8\"))"
   ]
  },
  {
   "cell_type": "markdown",
   "metadata": {},
   "source": [
    "Acessando detalhes a partir do código:"
   ]
  },
  {
   "cell_type": "code",
   "execution_count": 77,
   "metadata": {},
   "outputs": [
    {
     "name": "stdout",
     "output_type": "stream",
     "text": [
      "{\"descriptor\":\"http://id.nlm.nih.gov/mesh/D009203\",\"terms\":[{\"resource\":\"http://id.nlm.nih.gov/mesh/T027447\",\"label\":\"Myocardial Infarction\",\"preferred\":true},{\"resource\":\"http://id.nlm.nih.gov/mesh/T855594\",\"label\":\"Cardiovascular Stroke\",\"preferred\":false},{\"resource\":\"http://id.nlm.nih.gov/mesh/T000866941\",\"label\":\"Heart Attack\",\"preferred\":false},{\"resource\":\"http://id.nlm.nih.gov/mesh/T027448\",\"label\":\"Myocardial Infarct\",\"preferred\":false}],\"qualifiers\":[{\"resource\":\"http://id.nlm.nih.gov/mesh/Q000097\",\"label\":\"blood\"},{\"resource\":\"http://id.nlm.nih.gov/mesh/Q000134\",\"label\":\"cerebrospinal fluid\"},{\"resource\":\"http://id.nlm.nih.gov/mesh/Q000139\",\"label\":\"chemically induced\"},{\"resource\":\"http://id.nlm.nih.gov/mesh/Q000145\",\"label\":\"classification\"},{\"resource\":\"http://id.nlm.nih.gov/mesh/Q000150\",\"label\":\"complications\"},{\"resource\":\"http://id.nlm.nih.gov/mesh/Q000151\",\"label\":\"congenital\"},{\"resource\":\"http://id.nlm.nih.gov/mesh/Q000175\",\"label\":\"diagnosis\"},{\"resource\":\"http://id.nlm.nih.gov/mesh/Q000000981\",\"label\":\"diagnostic imaging\"},{\"resource\":\"http://id.nlm.nih.gov/mesh/Q000178\",\"label\":\"diet therapy\"},{\"resource\":\"http://id.nlm.nih.gov/mesh/Q000188\",\"label\":\"drug therapy\"},{\"resource\":\"http://id.nlm.nih.gov/mesh/Q000191\",\"label\":\"economics\"},{\"resource\":\"http://id.nlm.nih.gov/mesh/Q000196\",\"label\":\"embryology\"},{\"resource\":\"http://id.nlm.nih.gov/mesh/Q000201\",\"label\":\"enzymology\"},{\"resource\":\"http://id.nlm.nih.gov/mesh/Q000453\",\"label\":\"epidemiology\"},{\"resource\":\"http://id.nlm.nih.gov/mesh/Q000208\",\"label\":\"ethnology\"},{\"resource\":\"http://id.nlm.nih.gov/mesh/Q000209\",\"label\":\"etiology\"},{\"resource\":\"http://id.nlm.nih.gov/mesh/Q000235\",\"label\":\"genetics\"},{\"resource\":\"http://id.nlm.nih.gov/mesh/Q000266\",\"label\":\"history\"},{\"resource\":\"http://id.nlm.nih.gov/mesh/Q000276\",\"label\":\"immunology\"},{\"resource\":\"http://id.nlm.nih.gov/mesh/Q000378\",\"label\":\"metabolism\"},{\"resource\":\"http://id.nlm.nih.gov/mesh/Q000382\",\"label\":\"microbiology\"},{\"resource\":\"http://id.nlm.nih.gov/mesh/Q000401\",\"label\":\"mortality\"},{\"resource\":\"http://id.nlm.nih.gov/mesh/Q000451\",\"label\":\"nursing\"},{\"resource\":\"http://id.nlm.nih.gov/mesh/Q000469\",\"label\":\"parasitology\"},{\"resource\":\"http://id.nlm.nih.gov/mesh/Q000473\",\"label\":\"pathology\"},{\"resource\":\"http://id.nlm.nih.gov/mesh/Q000503\",\"label\":\"physiopathology\"},{\"resource\":\"http://id.nlm.nih.gov/mesh/Q000517\",\"label\":\"prevention & control\"},{\"resource\":\"http://id.nlm.nih.gov/mesh/Q000523\",\"label\":\"psychology\"},{\"resource\":\"http://id.nlm.nih.gov/mesh/Q000532\",\"label\":\"radiotherapy\"},{\"resource\":\"http://id.nlm.nih.gov/mesh/Q000534\",\"label\":\"rehabilitation\"},{\"resource\":\"http://id.nlm.nih.gov/mesh/Q000601\",\"label\":\"surgery\"},{\"resource\":\"http://id.nlm.nih.gov/mesh/Q000628\",\"label\":\"therapy\"},{\"resource\":\"http://id.nlm.nih.gov/mesh/Q000652\",\"label\":\"urine\"},{\"resource\":\"http://id.nlm.nih.gov/mesh/Q000662\",\"label\":\"veterinary\"},{\"resource\":\"http://id.nlm.nih.gov/mesh/Q000821\",\"label\":\"virology\"}],\"seealso\":[{\"resource\":\"http://id.nlm.nih.gov/mesh/D006342\",\"label\":\"Heart Rupture, Post-Infarction\"}]}\n"
     ]
    }
   ],
   "source": [
    "url_mid = \"https://id.nlm.nih.gov/mesh/lookup/details?descriptor=D009203\"\n",
    "js_mid = requests.get(url_mid)\n",
    "print(js_mid.content.decode(\"utf-8\"))"
   ]
  },
  {
   "cell_type": "markdown",
   "metadata": {},
   "source": [
    "## Tarefa\n",
    "## Quais os termos usados para Aspirina (consulta JSON/MeSH em Python)?"
   ]
  },
  {
   "cell_type": "code",
   "execution_count": 94,
   "metadata": {},
   "outputs": [
    {
     "name": "stdout",
     "output_type": "stream",
     "text": [
      "Os termos osados são:\n",
      "\n",
      "Aspirin\n",
      "2-(Acetyloxy)benzoic Acid\n",
      "Acetylsalicylic Acid\n",
      "Acetysal\n",
      "Acylpyrin\n",
      "Aloxiprimum\n",
      "Colfarit\n",
      "Dispril\n",
      "Easprin\n",
      "Ecotrin\n",
      "Endosprin\n",
      "Magnecyl\n",
      "Micristin\n",
      "Polopirin\n",
      "Polopiryna\n",
      "Solprin\n",
      "Solupsan\n",
      "Zorprin\n"
     ]
    }
   ],
   "source": [
    "url_asp = \"https://id.nlm.nih.gov/mesh/lookup/details?descriptor=D001241\"\n",
    "js_asp = requests.get(url_asp)\n",
    "asp_json = js_asp.json()\n",
    "print(\"Os termos osados são:\")\n",
    "print()\n",
    "for item in asp_json.items():\n",
    "    if (item[0] == \"terms\"):\n",
    "        for match in item[1]:\n",
    "            print(match[\"label\"])"
   ]
  }
 ],
 "metadata": {
  "kernelspec": {
   "display_name": "Python 3",
   "language": "python",
   "name": "python3"
  },
  "language_info": {
   "codemirror_mode": {
    "name": "ipython",
    "version": 3
   },
   "file_extension": ".py",
   "mimetype": "text/x-python",
   "name": "python",
   "nbconvert_exporter": "python",
   "pygments_lexer": "ipython3",
   "version": "3.7.8"
  }
 },
 "nbformat": 4,
 "nbformat_minor": 4
}
