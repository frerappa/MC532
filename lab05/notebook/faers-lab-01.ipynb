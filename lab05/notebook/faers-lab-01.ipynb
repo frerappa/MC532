{
 "cells": [
  {
   "cell_type": "code",
   "execution_count": 1,
   "metadata": {},
   "outputs": [],
   "source": [
    "%defaultDatasource jdbc:h2:mem:db"
   ]
  },
  {
   "cell_type": "code",
   "execution_count": 2,
   "metadata": {},
   "outputs": [],
   "source": [
    "DROP TABLE IF EXISTS Drug;\n",
    "DROP TABLE IF EXISTS Pathology;\n",
    "DROP TABLE IF EXISTS DrugUse;\n",
    "\n",
    "CREATE TABLE Drug (\n",
    "  code INT NOT NULL,\n",
    "  name VARCHAR(200) NOT NULL,\n",
    "  PRIMARY KEY(code)\n",
    ") AS SELECT\n",
    "    code,\n",
    "    name\n",
    "FROM CSVREAD('../../../data/faers-2017/drug.csv');\n",
    "\n",
    "CREATE TABLE Pathology (\n",
    "  code INT NOT NULL,\n",
    "  name VARCHAR(200) NOT NULL,\n",
    "  PRIMARY KEY(code)\n",
    ") AS SELECT\n",
    "    code,\n",
    "    name\n",
    "FROM CSVREAD('../../../data/faers-2017/pathology.csv');\n",
    "\n",
    "CREATE TABLE DrugUse (\n",
    "  idPerson INT NOT NULL,\n",
    "  codePathology INT NOT NULL,\n",
    "  codeDrug INT NOT NULL,\n",
    "  FOREIGN KEY(codePathology)\n",
    "    REFERENCES Pathology(code)\n",
    "      ON DELETE NO ACTION\n",
    "      ON UPDATE NO ACTION,\n",
    "  FOREIGN KEY(codeDrug)\n",
    "    REFERENCES Drug(code)\n",
    "      ON DELETE NO ACTION\n",
    "      ON UPDATE NO ACTION,\n",
    ") AS SELECT\n",
    "    idPerson,\n",
    "    codePathology,\n",
    "    codeDrug\n",
    "FROM CSVREAD('../../../data/faers-2017/drug-use.csv');\n",
    "\n",
    "CREATE TABLE SideEffect(\n",
    "  idPerson INT NOT NULL,\n",
    "  codePathology INT NOT NULL,\n",
    "  FOREIGN KEY(codePathology)\n",
    "    REFERENCES Pathology(code)\n",
    "      ON DELETE NO ACTION\n",
    "      ON UPDATE NO ACTION\n",
    ") AS SELECT idPerson, codePathology\n",
    "FROM CSVREAD('../../../data/faers-2017/sideeffect.csv');"
   ]
  },
  {
   "cell_type": "code",
   "execution_count": 3,
   "metadata": {},
   "outputs": [
    {
     "data": {
      "application/vnd.jupyter.widget-view+json": {
       "model_id": "9f8c8861-6704-49ca-a8f9-2a39b32a9e88",
       "version_major": 2,
       "version_minor": 0
      },
      "method": "display_data"
     },
     "metadata": {},
     "output_type": "display_data"
    },
    {
     "data": {
      "application/vnd.jupyter.widget-view+json": {
       "model_id": "c90df8f0-3fad-4b5d-85af-85013654ba42",
       "version_major": 2,
       "version_minor": 0
      },
      "method": "display_data"
     },
     "metadata": {},
     "output_type": "display_data"
    },
    {
     "data": {
      "application/vnd.jupyter.widget-view+json": {
       "model_id": "a6eb6d41-1a61-4b71-b3bb-30d1a1d14749",
       "version_major": 2,
       "version_minor": 0
      },
      "method": "display_data"
     },
     "metadata": {},
     "output_type": "display_data"
    },
    {
     "data": {
      "application/vnd.jupyter.widget-view+json": {
       "model_id": "ebfebdb6-d1b1-47f8-abf4-16b9f8ad98dd",
       "version_major": 2,
       "version_minor": 0
      },
      "method": "display_data"
     },
     "metadata": {},
     "output_type": "display_data"
    }
   ],
   "source": [
    "SELECT * FROM Drug;\n",
    "SELECT * FROM Pathology;\n",
    "SELECT * FROM DrugUse;\n",
    "SELECT * FROM SideEffect;"
   ]
  },
  {
   "cell_type": "markdown",
   "metadata": {},
   "source": [
    "# FDA Adverse Event Reporting System (FAERS)\n",
    "\n",
    "Considere a base de dados que reúne relatos de efeitos adversos de drogas: [FDA Adverse Event Reporting System (FAERS)](https://open.fda.gov/data/faers/).\n",
    "\n",
    "As fontes de dados são publicadas e documentadas em: [Latest Quarterly Data Files](https://www.fda.gov/drugs/fda-adverse-event-reporting-system-faers/fda-adverse-event-reporting-system-faers-latest-quarterly-data-files)"
   ]
  },
  {
   "cell_type": "markdown",
   "metadata": {},
   "source": [
    "# Interação entre medicamentos\n",
    "Considere como uma interação toda vez que um medicamento A é tomado em conjunto com um medicamento B por uma pessoa. Crie uma consulta que retorne para cada par de medicamento A,B o número de interações, somente para aqueles medicamentos que são tomados em conjunto mais de 30 vezes (passaremos a chamar de **grupo mais 30**)."
   ]
  },
  {
   "cell_type": "code",
   "execution_count": null,
   "metadata": {},
   "outputs": [],
   "source": [
    "DROP VIEW Interacao IF EXISTS;\n",
    "DROP VIEW GrupoMais30 IF EXISTS;\n",
    "\n",
    "CREATE VIEW Interacao AS\n",
    "SELECT A.codeDrug medicamentoA, B.codeDrug medicamentoB\n",
    "FROM DrugUse A, DrugUse B\n",
    "WHERE A.IdPerson = B.IdPerson AND A.codeDrug <> B.codeDrug;\n",
    "\n",
    "CREATE VIEW GrupoMais30 AS\n",
    "SELECT medicamentoA, medicamentoB, COUNT(*) usos\n",
    "FROM Interacao\n",
    "GROUP BY medicamentoA, medicamentoB\n",
    "HAVING usos > 30;\n",
    "\n",
    "SELECT * FROM GrupoMais30;"
   ]
  },
  {
   "cell_type": "markdown",
   "metadata": {},
   "source": [
    "## Tabela Resultante\n",
    "\n",
    "Se estiver demorando muito para gerar a tabela, você poderá usar a seguinte tabela resultante pronta. Essa tabela tem todas as interações, você ainda precisará filtrar o **grupo mais 30**."
   ]
  },
  {
   "cell_type": "code",
   "execution_count": 5,
   "metadata": {},
   "outputs": [
    {
     "data": {
      "application/vnd.jupyter.widget-view+json": {
       "model_id": "a26468b9-7984-4c42-9083-c5d29935c620",
       "version_major": 2,
       "version_minor": 0
      },
      "method": "display_data"
     },
     "metadata": {},
     "output_type": "display_data"
    }
   ],
   "source": [
    "CREATE TABLE DrugInteraction (\n",
    "  druga INT NOT NULL,\n",
    "  drugb INT NOT NULL,\n",
    "  weight INT NOT NULL,\n",
    "  PRIMARY KEY(druga, drugb)\n",
    ") AS SELECT\n",
    "    druga,\n",
    "    drugb,\n",
    "    weight\n",
    "FROM CSVREAD('../../../data/faers-2017/results/drug-interaction.csv');\n",
    "\n",
    "SELECT * FROM DrugInteraction;"
   ]
  },
  {
   "cell_type": "markdown",
   "metadata": {},
   "source": [
    "# Suporte\n",
    "\n",
    "### Qual o suporte que cada uma das associações tem?\n",
    "\n",
    "Gere uma consulta que apresente o suporte do **grupo mais 30**. Ordene o resultado por ordem de suporte. \n",
    "\n",
    "Observação: Para que o resultado da divisão seja fracionária, converta o numerador em `DOUBLE` usando:\n",
    "~~~sql\n",
    "CAST(campo AS DOUBLE)\n",
    "~~~"
   ]
  },
  {
   "cell_type": "code",
   "execution_count": null,
   "metadata": {},
   "outputs": [],
   "source": [
    "DROP VIEW GrupoMais30 IF EXISTS;\n",
    "CREATE VIEW GrupoMais30 AS SELECT * FROM DrugInteraction WHERE weight > 30;\n",
    "\n",
    "SELECT drugA, drugB, weight, CAST(weight AS DOUBLE) / (SELECT COUNT(*) FROM DrugInteraction) Suporte FROM GrupoMais30 ORDER BY Suporte;"
   ]
  },
  {
   "cell_type": "markdown",
   "metadata": {},
   "source": [
    "# Confiança\n",
    "\n",
    "### Qual a confiança que cada uma das associações tem?\n",
    "\n",
    "Gere uma consulta que apresente a confiança do **grupo mais 30**. Ordene o resultado por ordem de confiança."
   ]
  },
  {
   "cell_type": "code",
   "execution_count": null,
   "metadata": {},
   "outputs": [],
   "source": [
    "SELECT GM.drugA, GM.drugB, GM.weight, CAST(GM.weight AS DOUBLE) / (SELECT COUNT(*) FROM DrugInteraction DI WHERE DI.drugA = GM.drugA OR DI.drugA = GM.drugB ) Confianca FROM GrupoMais30 GM ORDER BY Confianca;"
   ]
  },
  {
   "cell_type": "markdown",
   "metadata": {},
   "source": [
    "# Efeito Colateral\n",
    "\n",
    "Para cada medicamento, qual o percentual do medicamento A que tem efeito colateral junto com o medicamento B, quando comparado com seu uso sem o medicamento B."
   ]
  },
  {
   "cell_type": "code",
   "execution_count": 3,
   "metadata": {},
   "outputs": [
    {
     "data": {
      "application/vnd.jupyter.widget-view+json": {
       "model_id": "4a85891a-e2f7-46a5-ad8d-d7848f26611a",
       "version_major": 2,
       "version_minor": 0
      },
      "method": "display_data"
     },
     "metadata": {},
     "output_type": "display_data"
    }
   ],
   "source": [
    "DROP VIEW InteracaoPessoa IF EXISTS;\n",
    "DROP VIEW CONTAGEMEFEITOSCOLATERAISDOISMED IF EXISTS;\n",
    "DROP VIEW contagemEfeitosColateraisUmMed IF EXISTS;\n",
    "DROP VIEW Interacao IF EXISTS;\n",
    "DROP VIEW AfetadosPorEfeitoColateral IF EXISTS;\n",
    "DROP VIEW usosMedicamentos IF EXISTS;\n",
    "\n",
    "CREATE VIEW usosMedicamentos AS\n",
    "SELECT codeDrug, COUNT(*) usos\n",
    "FROM DrugUse\n",
    "GROUP BY codeDrug\n",
    "ORDER BY codeDrug;\n",
    "\n",
    "\n",
    "CREATE VIEW AfetadosPorEfeitoColateral AS\n",
    "SELECT idPerson, codePathology, codeDrug\n",
    "FROM DrugUse \n",
    "WHERE idPerson = ANY (SELECT DISTINCT idPerson FROM SideEffect);\n",
    "\n",
    "CREATE VIEW Interacao AS\n",
    "SELECT A.codeDrug medicamentoA, B.codeDrug medicamentoB, A.codePathology\n",
    "FROM DrugUse A, DrugUse B\n",
    "WHERE A.IdPerson = B.IdPerson AND A.codeDrug < B.codeDrug;\n",
    "\n",
    "CREATE VIEW contagemEfeitosColateraisUmMed AS\n",
    "SELECT codeDrug medicamentoA, COUNT(*) numeroafetados\n",
    "FROM AfetadosPorEfeitoColateral \n",
    "GROUP BY codeDrug\n",
    "ORDER BY codeDrug;\n",
    "\n",
    "CREATE VIEW contagemEfeitosColateraisDoisMed AS\n",
    "SELECT medicamentoA, medicamentoB, COUNT(*) numeroafetados\n",
    "FROM Interacao \n",
    "GROUP BY medicamentoA, medicamentoB\n",
    "ORDER BY medicamentoA, medicamentoB;\n",
    "\n",
    "SELECT CECUM.medicamentoA, CECDM.medicamentoB, CAST(CECUM.numeroafetados AS DOUBLE) / (SELECT COUNT(*) FROM DrugInteraction DI WHERE DI.drugA = GM.drugA OR DI.drugA = CECDM.medicamentoB ) porcentagemAfetadosA, CAST(CECDM.numeroafetados AS DOUBLE) / (SELECT COUNT(*) FROM DrugInteraction DI WHERE DI.drugA = GM.drugA OR DI.drugA = CECDM.medicamentoB ) porcentagemAfetadosB \n",
    "FROM contagemEfeitosColateraisUmMed CECUM, contagemEfeitosColateraisDoisMed CECDM\n",
    "WHERE CECUM.medicamentoA = CECDM.medicamentoA AND CECUM.medicamentoA <> CECDM.medicamentoB\n",
    "GROUP BY CECUM.medicamentoA, CECDM.medicamentoB"
   ]
  }
 ],
 "metadata": {
  "kernelspec": {
   "display_name": "SQL",
   "language": "SQL",
   "name": "sql"
  },
  "language_info": {
   "codemirror_mode": "sql",
   "file_extension": ".sql",
   "mimetype": "",
   "name": "SQL",
   "nbconverter_exporter": "",
   "version": ""
  },
  "toc": {
   "base_numbering": 1,
   "nav_menu": {},
   "number_sections": false,
   "sideBar": false,
   "skip_h1_title": false,
   "title_cell": "Table of Contents",
   "title_sidebar": "Contents",
   "toc_cell": false,
   "toc_position": {},
   "toc_section_display": false,
   "toc_window_display": false
  }
 },
 "nbformat": 4,
 "nbformat_minor": 4
}
